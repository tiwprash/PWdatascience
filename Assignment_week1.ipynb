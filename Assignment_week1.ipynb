{
 "cells": [
  {
   "cell_type": "markdown",
   "id": "f7feed20-3535-4c3c-a868-049e551ed687",
   "metadata": {},
   "source": [
    "Q1. Create one variable containing following type of data:\n",
    "(i) string\n",
    "(ii) list\n",
    "(iii) float\n",
    "(iv) tuple\n"
   ]
  },
  {
   "cell_type": "code",
   "execution_count": 1,
   "id": "e514129c-7e2d-4d2d-84de-26b2d06054cd",
   "metadata": {},
   "outputs": [],
   "source": [
    "string = \"This is a String\"\n",
    "list_1 = [1,2,\"This is a list\",2.33]\n",
    "float_1 = 21.14\n",
    "tuple_1 =(1,2,2,\"This is a tuple\")"
   ]
  },
  {
   "cell_type": "markdown",
   "id": "83fee0ca-ebcb-4a4e-8e57-50e59d290e60",
   "metadata": {},
   "source": [
    "Q2. Given are some following variables containing data:\n",
    "(i) var1 = ‘ ‘\n",
    "(ii) var2 = '[ DS , ML , Python]'\n",
    "(iii) var3 = [ ‘DS’ , ’ML’ , ‘Python’ ]\n",
    "(iv) var4 = 1.\n",
    "What will be the data type of the above given variable."
   ]
  },
  {
   "cell_type": "markdown",
   "id": "960fb575-0a29-4443-95fc-764176b26278",
   "metadata": {},
   "source": [
    "Answer for 2nd question\n",
    "var1 = String\n",
    "var2 = string\n",
    "var3 = list\n",
    "var4 = Int"
   ]
  },
  {
   "cell_type": "markdown",
   "id": "edc776b5-05e2-4c70-9360-9f52b841c905",
   "metadata": {},
   "source": [
    "Q3. Explain the use of the following operators using an example:\n",
    "(i) /\n",
    "(ii) %\n",
    "(iii) //\n",
    "(iv) **"
   ]
  },
  {
   "cell_type": "code",
   "execution_count": 24,
   "id": "8b3eda1d-d583-4fa0-bdea-6cd2e3fe50d5",
   "metadata": {},
   "outputs": [],
   "source": [
    "# / is used for division\n",
    "a = 4/2\n",
    "# % is a modulus operator it is used to get the remainder \n",
    "b = 4%2\n",
    "# //  rounds the result down to the nearest whole number\n",
    "c= 3//2\n",
    "# ** it multiplies the number exponentially\n",
    "a= 5\n",
    "b=3\n",
    "d=a**b  # it will be 5*5*5"
   ]
  },
  {
   "cell_type": "markdown",
   "id": "2ed25648-eeee-4796-ac4d-b49ff27faf19",
   "metadata": {},
   "source": [
    "Q4. Create a list of length 10 of your choice containing multiple types of data. Using for loop print the\n",
    "element and its data type."
   ]
  },
  {
   "cell_type": "code",
   "execution_count": 41,
   "id": "48eea024-0164-4e94-b599-9f1b110bcd58",
   "metadata": {},
   "outputs": [
    {
     "name": "stdout",
     "output_type": "stream",
     "text": [
      "1\n",
      "2\n",
      "3\n",
      "4\n",
      "Five\n",
      "6.1\n",
      "7\n",
      "8\n",
      "nine\n",
      "10.1\n"
     ]
    }
   ],
   "source": [
    "list_1 = [1,2,3,4,\"Five\",6.1,7,8,\"nine\",10.10]\n",
    "for i in list_1:\n",
    "    print(i)"
   ]
  },
  {
   "cell_type": "markdown",
   "id": "58af84c3-db62-4d90-9915-97193c4a9410",
   "metadata": {},
   "source": [
    "Q5. Using a while loop, verify if the number A is purely divisible by number B and if so then how many\n",
    "times it can be divisible."
   ]
  },
  {
   "cell_type": "code",
   "execution_count": 51,
   "id": "613c92db-b74f-408a-b9f2-3c0b15cbadea",
   "metadata": {},
   "outputs": [
    {
     "name": "stdin",
     "output_type": "stream",
     "text": [
      " 100\n",
      " 2\n"
     ]
    },
    {
     "name": "stdout",
     "output_type": "stream",
     "text": [
      "A is purely divisible by B\n",
      "2\n"
     ]
    }
   ],
   "source": [
    "#solution\n",
    "\n",
    "a= int(input())\n",
    "b= int(input())\n",
    "i=0\n",
    "\n",
    "if a%b==0:\n",
    "    while a%b==0:\n",
    "        a/=b\n",
    "        i+=1\n",
    "    print(\"A is purely divisible by B\")\n",
    "    print(i)\n",
    "else:\n",
    "    print(\"A is not purely divisible by B\")"
   ]
  },
  {
   "cell_type": "markdown",
   "id": "dfc1f449-e08b-4e08-823a-ce4b56b3ec07",
   "metadata": {},
   "source": [
    "Q6. Create a list containing 25 int type data. Using for loop and if-else condition print if the element is\n",
    "divisible by 3 or not."
   ]
  },
  {
   "cell_type": "code",
   "execution_count": 3,
   "id": "7abedfe8-538c-4f94-b23a-c9b7a6814c1f",
   "metadata": {},
   "outputs": [
    {
     "name": "stdout",
     "output_type": "stream",
     "text": [
      "1 is not divisible by 3\n",
      "2 is not divisible by 3\n",
      "3 is divisible by 3\n",
      "4 is not divisible by 3\n",
      "5 is not divisible by 3\n",
      "6 is divisible by 3\n",
      "7 is not divisible by 3\n",
      "8 is not divisible by 3\n",
      "9 is divisible by 3\n",
      "10 is not divisible by 3\n",
      "11 is not divisible by 3\n",
      "12 is divisible by 3\n",
      "13 is not divisible by 3\n",
      "14 is not divisible by 3\n",
      "15 is divisible by 3\n",
      "16 is not divisible by 3\n",
      "17 is not divisible by 3\n",
      "18 is divisible by 3\n",
      "19 is not divisible by 3\n",
      "20 is not divisible by 3\n",
      "21 is divisible by 3\n",
      "22 is not divisible by 3\n",
      "23 is not divisible by 3\n",
      "24 is divisible by 3\n",
      "25 is not divisible by 3\n"
     ]
    }
   ],
   "source": [
    "for i in range (1,26):\n",
    "    if i%3==0:\n",
    "        print(f\"{i} is divisible by 3\")\n",
    "    else:\n",
    "        print(f\"{i} is not divisible by 3\")\n",
    "        "
   ]
  },
  {
   "cell_type": "markdown",
   "id": "30c4c2ee-7e4f-4787-b3ee-8b0929472d1b",
   "metadata": {},
   "source": [
    "Q7. What do you understand about mutable and immutable data types? Give examples for both showing\n",
    "this property."
   ]
  },
  {
   "cell_type": "code",
   "execution_count": 6,
   "id": "c3216812-ff59-4ada-aed9-6ab5fad2b415",
   "metadata": {},
   "outputs": [
    {
     "data": {
      "text/plain": [
       "[1, 2, 2, 'This is changed so it is mutable', 5]"
      ]
     },
     "execution_count": 6,
     "metadata": {},
     "output_type": "execute_result"
    }
   ],
   "source": [
    "# answer of q.7\n",
    "\n",
    "# mutable data types are the data types where we can change the content by indexing it \n",
    "example= [1,2,2,4,5]\n",
    "example[3]=\"This is changed so it is mutable\"\n",
    "example"
   ]
  },
  {
   "cell_type": "code",
   "execution_count": 5,
   "id": "4127e671-e907-49e9-bdc3-2154cdbb7204",
   "metadata": {},
   "outputs": [
    {
     "ename": "TypeError",
     "evalue": "'str' object does not support item assignment",
     "output_type": "error",
     "traceback": [
      "\u001b[0;31m---------------------------------------------------------------------------\u001b[0m",
      "\u001b[0;31mTypeError\u001b[0m                                 Traceback (most recent call last)",
      "Cell \u001b[0;32mIn[5], line 3\u001b[0m\n\u001b[1;32m      1\u001b[0m \u001b[38;5;66;03m# mutable data types are the data types where we can not change the content by indexing it\u001b[39;00m\n\u001b[1;32m      2\u001b[0m example_2 \u001b[38;5;241m=\u001b[39m \u001b[38;5;124m\"\u001b[39m\u001b[38;5;124mchange\u001b[39m\u001b[38;5;124m\"\u001b[39m\n\u001b[0;32m----> 3\u001b[0m \u001b[43mexample_2\u001b[49m\u001b[43m[\u001b[49m\u001b[38;5;241;43m3\u001b[39;49m\u001b[43m]\u001b[49m\u001b[38;5;241m=\u001b[39m\u001b[38;5;124m\"\u001b[39m\u001b[38;5;124mm\u001b[39m\u001b[38;5;124m\"\u001b[39m\n",
      "\u001b[0;31mTypeError\u001b[0m: 'str' object does not support item assignment"
     ]
    }
   ],
   "source": [
    "# mutable data types are the data types where we can not change the content by indexing it\n",
    "example_2 = \"change\"\n",
    "example_2[3]=\"m\""
   ]
  }
 ],
 "metadata": {
  "kernelspec": {
   "display_name": "Python 3 (ipykernel)",
   "language": "python",
   "name": "python3"
  },
  "language_info": {
   "codemirror_mode": {
    "name": "ipython",
    "version": 3
   },
   "file_extension": ".py",
   "mimetype": "text/x-python",
   "name": "python",
   "nbconvert_exporter": "python",
   "pygments_lexer": "ipython3",
   "version": "3.10.8"
  }
 },
 "nbformat": 4,
 "nbformat_minor": 5
}
